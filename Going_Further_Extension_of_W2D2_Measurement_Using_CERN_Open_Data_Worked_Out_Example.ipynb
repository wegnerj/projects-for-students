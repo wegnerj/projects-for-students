{
  "nbformat": 4,
  "nbformat_minor": 0,
  "metadata": {
    "colab": {
      "name": "Going Further Extension of W2D2 Measurement Using CERN Open Data_Worked Out Example",
      "provenance": [],
      "collapsed_sections": [],
      "include_colab_link": true
    },
    "kernelspec": {
      "name": "python3",
      "display_name": "Python 3"
    }
  },
  "cells": [
    {
      "cell_type": "markdown",
      "metadata": {
        "id": "view-in-github",
        "colab_type": "text"
      },
      "source": [
        "<a href=\"https://colab.research.google.com/github/wegnerj/projects-for-students/blob/master/Going_Further_Extension_of_W2D2_Measurement_Using_CERN_Open_Data_Worked_Out_Example.ipynb\" target=\"_parent\"><img src=\"https://colab.research.google.com/assets/colab-badge.svg\" alt=\"Open In Colab\"/></a>"
      ]
    },
    {
      "cell_type": "code",
      "metadata": {
        "id": "CigWd45VwpPp"
      },
      "source": [
        "# imports some software packages we'll use\n",
        "import pandas as pd\n",
        "import numpy as np\n",
        "%matplotlib inline\n",
        "import matplotlib as mpl\n",
        "import matplotlib.pyplot as plt\n",
        "import math"
      ],
      "execution_count": 49,
      "outputs": []
    },
    {
      "cell_type": "markdown",
      "metadata": {
        "id": "q0HpOcL7jfw5"
      },
      "source": [
        "# Get Some Data ... **This Example Uses Data From 2010 Record 700**\n",
        "\n",
        "Choose a data set to use from [CERN Open Data](https://opendata.cern.ch/).\n",
        "\n",
        "Tips for choosing a data set:\n",
        "\n",
        "- click the 'datasets' link\n",
        "- filter for ... ? (What were we looking at in ispy again?)\n",
        "- right click on the download button, copy link address, and add it into the line below.\n",
        "- Take a look at your data so you can make a plan."
      ]
    },
    {
      "cell_type": "code",
      "metadata": {
        "id": "-u6HiVILyyc5"
      },
      "source": [
        "# a hashtag tells the program \"don't read the rest of the line\"\n",
        "# The next line pulls in the dataset from a file with comma seperated values (csv)\n",
        "# The dataset is then put into a DataFrame called \"data\" using the pd.read function.\n",
        "# The name of the DataFrame is arbitrary. \"data\" is just a name that is used often.\n",
        "data = pd.read_csv('https://opendata.cern.ch/record/700/files/MuRun2010B.csv')"
      ],
      "execution_count": 50,
      "outputs": []
    },
    {
      "cell_type": "markdown",
      "metadata": {
        "id": "iNUqUk3eczS_"
      },
      "source": [
        "## Get to know your data ...\n",
        "\n",
        "It is often a good practice to take a sneak peak at your data to get an idea of what you're working with.\n",
        "\n",
        "The following code blocks contain some common commands for exploring your data and discovering properties about it."
      ]
    },
    {
      "cell_type": "code",
      "metadata": {
        "id": "vdQDKWrZy8Hx",
        "colab": {
          "base_uri": "https://localhost:8080/",
          "height": 226
        },
        "outputId": "a0834572-11eb-4efc-a39c-8eeb9fa7038f"
      },
      "source": [
        "# The .head(n) command displays the first n rows of a file.\n",
        "data.head(5)"
      ],
      "execution_count": 51,
      "outputs": [
        {
          "output_type": "execute_result",
          "data": {
            "text/html": [
              "<div>\n",
              "<style scoped>\n",
              "    .dataframe tbody tr th:only-of-type {\n",
              "        vertical-align: middle;\n",
              "    }\n",
              "\n",
              "    .dataframe tbody tr th {\n",
              "        vertical-align: top;\n",
              "    }\n",
              "\n",
              "    .dataframe thead th {\n",
              "        text-align: right;\n",
              "    }\n",
              "</style>\n",
              "<table border=\"1\" class=\"dataframe\">\n",
              "  <thead>\n",
              "    <tr style=\"text-align: right;\">\n",
              "      <th></th>\n",
              "      <th>Run</th>\n",
              "      <th>Event</th>\n",
              "      <th>Type1</th>\n",
              "      <th>E1</th>\n",
              "      <th>px1</th>\n",
              "      <th>py1</th>\n",
              "      <th>pz1</th>\n",
              "      <th>pt1</th>\n",
              "      <th>eta1</th>\n",
              "      <th>phi1</th>\n",
              "      <th>Q1</th>\n",
              "      <th>Type2</th>\n",
              "      <th>E2</th>\n",
              "      <th>px2</th>\n",
              "      <th>py2</th>\n",
              "      <th>pz2</th>\n",
              "      <th>pt2</th>\n",
              "      <th>eta2</th>\n",
              "      <th>phi2</th>\n",
              "      <th>Q2</th>\n",
              "      <th>M</th>\n",
              "    </tr>\n",
              "  </thead>\n",
              "  <tbody>\n",
              "    <tr>\n",
              "      <th>0</th>\n",
              "      <td>146436</td>\n",
              "      <td>90830792</td>\n",
              "      <td>G</td>\n",
              "      <td>19.17120</td>\n",
              "      <td>3.817130</td>\n",
              "      <td>9.04323</td>\n",
              "      <td>-16.46730</td>\n",
              "      <td>9.81583</td>\n",
              "      <td>-1.289420</td>\n",
              "      <td>1.171390</td>\n",
              "      <td>1</td>\n",
              "      <td>T</td>\n",
              "      <td>5.43984</td>\n",
              "      <td>-0.362592</td>\n",
              "      <td>2.626990</td>\n",
              "      <td>-4.748490</td>\n",
              "      <td>2.65189</td>\n",
              "      <td>-1.345870</td>\n",
              "      <td>1.707960</td>\n",
              "      <td>1</td>\n",
              "      <td>2.73205</td>\n",
              "    </tr>\n",
              "    <tr>\n",
              "      <th>1</th>\n",
              "      <td>146436</td>\n",
              "      <td>90862225</td>\n",
              "      <td>G</td>\n",
              "      <td>12.94350</td>\n",
              "      <td>5.125790</td>\n",
              "      <td>-3.98369</td>\n",
              "      <td>-11.19730</td>\n",
              "      <td>6.49180</td>\n",
              "      <td>-1.313350</td>\n",
              "      <td>-0.660674</td>\n",
              "      <td>-1</td>\n",
              "      <td>G</td>\n",
              "      <td>11.86360</td>\n",
              "      <td>4.789840</td>\n",
              "      <td>-6.262220</td>\n",
              "      <td>-8.864340</td>\n",
              "      <td>7.88403</td>\n",
              "      <td>-0.966622</td>\n",
              "      <td>-0.917841</td>\n",
              "      <td>1</td>\n",
              "      <td>3.10256</td>\n",
              "    </tr>\n",
              "    <tr>\n",
              "      <th>2</th>\n",
              "      <td>146436</td>\n",
              "      <td>90644850</td>\n",
              "      <td>G</td>\n",
              "      <td>12.39990</td>\n",
              "      <td>-0.849742</td>\n",
              "      <td>9.40110</td>\n",
              "      <td>8.04015</td>\n",
              "      <td>9.43943</td>\n",
              "      <td>0.772580</td>\n",
              "      <td>1.660940</td>\n",
              "      <td>1</td>\n",
              "      <td>G</td>\n",
              "      <td>8.55532</td>\n",
              "      <td>-4.851550</td>\n",
              "      <td>6.976960</td>\n",
              "      <td>-0.983229</td>\n",
              "      <td>8.49797</td>\n",
              "      <td>-0.115445</td>\n",
              "      <td>2.178410</td>\n",
              "      <td>-1</td>\n",
              "      <td>9.41149</td>\n",
              "    </tr>\n",
              "    <tr>\n",
              "      <th>3</th>\n",
              "      <td>146436</td>\n",
              "      <td>90678594</td>\n",
              "      <td>G</td>\n",
              "      <td>17.81320</td>\n",
              "      <td>-1.959590</td>\n",
              "      <td>2.80531</td>\n",
              "      <td>17.48110</td>\n",
              "      <td>3.42195</td>\n",
              "      <td>2.333500</td>\n",
              "      <td>2.180530</td>\n",
              "      <td>1</td>\n",
              "      <td>G</td>\n",
              "      <td>9.42174</td>\n",
              "      <td>4.365230</td>\n",
              "      <td>0.168017</td>\n",
              "      <td>8.347130</td>\n",
              "      <td>4.36846</td>\n",
              "      <td>1.403000</td>\n",
              "      <td>0.038471</td>\n",
              "      <td>1</td>\n",
              "      <td>7.74702</td>\n",
              "    </tr>\n",
              "    <tr>\n",
              "      <th>4</th>\n",
              "      <td>146436</td>\n",
              "      <td>90686690</td>\n",
              "      <td>G</td>\n",
              "      <td>7.95664</td>\n",
              "      <td>7.097000</td>\n",
              "      <td>-1.31646</td>\n",
              "      <td>3.34613</td>\n",
              "      <td>7.21806</td>\n",
              "      <td>0.448399</td>\n",
              "      <td>-0.183411</td>\n",
              "      <td>1</td>\n",
              "      <td>T</td>\n",
              "      <td>5.44467</td>\n",
              "      <td>-1.341760</td>\n",
              "      <td>1.386470</td>\n",
              "      <td>5.090250</td>\n",
              "      <td>1.92941</td>\n",
              "      <td>1.697380</td>\n",
              "      <td>2.339810</td>\n",
              "      <td>-1</td>\n",
              "      <td>8.67727</td>\n",
              "    </tr>\n",
              "  </tbody>\n",
              "</table>\n",
              "</div>"
            ],
            "text/plain": [
              "      Run     Event Type1        E1  ...      eta2      phi2  Q2        M\n",
              "0  146436  90830792     G  19.17120  ... -1.345870  1.707960   1  2.73205\n",
              "1  146436  90862225     G  12.94350  ... -0.966622 -0.917841   1  3.10256\n",
              "2  146436  90644850     G  12.39990  ... -0.115445  2.178410  -1  9.41149\n",
              "3  146436  90678594     G  17.81320  ...  1.403000  0.038471   1  7.74702\n",
              "4  146436  90686690     G   7.95664  ...  1.697380  2.339810  -1  8.67727\n",
              "\n",
              "[5 rows x 21 columns]"
            ]
          },
          "metadata": {
            "tags": []
          },
          "execution_count": 51
        }
      ]
    },
    {
      "cell_type": "code",
      "metadata": {
        "id": "BCZrNnruj9_M",
        "colab": {
          "base_uri": "https://localhost:8080/"
        },
        "outputId": "9184ea49-c82a-4b47-899e-e016a3a449c0"
      },
      "source": [
        "# The .shape command displays the (number of rows , number of columns) in a file.\n",
        "data.shape"
      ],
      "execution_count": 52,
      "outputs": [
        {
          "output_type": "execute_result",
          "data": {
            "text/plain": [
              "(100000, 21)"
            ]
          },
          "metadata": {
            "tags": []
          },
          "execution_count": 52
        }
      ]
    },
    {
      "cell_type": "code",
      "metadata": {
        "id": "fwSwLgZpmWAP",
        "colab": {
          "base_uri": "https://localhost:8080/"
        },
        "outputId": "b483998a-89e4-49cf-eb0f-66a26ae80f91"
      },
      "source": [
        "# The .types command displays data types.\n",
        "data.dtypes"
      ],
      "execution_count": 53,
      "outputs": [
        {
          "output_type": "execute_result",
          "data": {
            "text/plain": [
              "Run        int64\n",
              "Event      int64\n",
              "Type1     object\n",
              "E1       float64\n",
              "px1      float64\n",
              "py1      float64\n",
              "pz1      float64\n",
              "pt1      float64\n",
              "eta1     float64\n",
              "phi1     float64\n",
              "Q1         int64\n",
              "Type2     object\n",
              "E2       float64\n",
              "px2      float64\n",
              "py2      float64\n",
              "pz2      float64\n",
              "pt2      float64\n",
              "eta2     float64\n",
              "phi2     float64\n",
              "Q2         int64\n",
              "M        float64\n",
              "dtype: object"
            ]
          },
          "metadata": {
            "tags": []
          },
          "execution_count": 53
        }
      ]
    },
    {
      "cell_type": "code",
      "metadata": {
        "id": "shMuex0aiX19",
        "colab": {
          "base_uri": "https://localhost:8080/"
        },
        "outputId": "f6115a93-4cbb-4075-b452-0b38133c4bb8"
      },
      "source": [
        "# The .keys command displays the column names.\n",
        "data.keys()"
      ],
      "execution_count": 54,
      "outputs": [
        {
          "output_type": "execute_result",
          "data": {
            "text/plain": [
              "Index(['Run', 'Event', 'Type1', 'E1', 'px1 ', 'py1', 'pz1', 'pt1', 'eta1',\n",
              "       'phi1', 'Q1', 'Type2', 'E2', 'px2', 'py2', 'pz2', 'pt2', 'eta2', 'phi2',\n",
              "       'Q2', 'M'],\n",
              "      dtype='object')"
            ]
          },
          "metadata": {
            "tags": []
          },
          "execution_count": 54
        }
      ]
    },
    {
      "cell_type": "code",
      "metadata": {
        "id": "SBz3VG3FUHjP",
        "colab": {
          "base_uri": "https://localhost:8080/",
          "height": 320
        },
        "outputId": "0bc1913d-7805-49fa-e7c9-aa9f92d229bf"
      },
      "source": [
        "# The .describe command displays the dataset statistics\n",
        "data.describe()"
      ],
      "execution_count": 55,
      "outputs": [
        {
          "output_type": "execute_result",
          "data": {
            "text/html": [
              "<div>\n",
              "<style scoped>\n",
              "    .dataframe tbody tr th:only-of-type {\n",
              "        vertical-align: middle;\n",
              "    }\n",
              "\n",
              "    .dataframe tbody tr th {\n",
              "        vertical-align: top;\n",
              "    }\n",
              "\n",
              "    .dataframe thead th {\n",
              "        text-align: right;\n",
              "    }\n",
              "</style>\n",
              "<table border=\"1\" class=\"dataframe\">\n",
              "  <thead>\n",
              "    <tr style=\"text-align: right;\">\n",
              "      <th></th>\n",
              "      <th>Run</th>\n",
              "      <th>Event</th>\n",
              "      <th>E1</th>\n",
              "      <th>px1</th>\n",
              "      <th>py1</th>\n",
              "      <th>pz1</th>\n",
              "      <th>pt1</th>\n",
              "      <th>eta1</th>\n",
              "      <th>phi1</th>\n",
              "      <th>Q1</th>\n",
              "      <th>E2</th>\n",
              "      <th>px2</th>\n",
              "      <th>py2</th>\n",
              "      <th>pz2</th>\n",
              "      <th>pt2</th>\n",
              "      <th>eta2</th>\n",
              "      <th>phi2</th>\n",
              "      <th>Q2</th>\n",
              "      <th>M</th>\n",
              "    </tr>\n",
              "  </thead>\n",
              "  <tbody>\n",
              "    <tr>\n",
              "      <th>count</th>\n",
              "      <td>100000.000000</td>\n",
              "      <td>1.000000e+05</td>\n",
              "      <td>100000.000000</td>\n",
              "      <td>100000.000000</td>\n",
              "      <td>100000.000000</td>\n",
              "      <td>100000.000000</td>\n",
              "      <td>100000.000000</td>\n",
              "      <td>100000.000000</td>\n",
              "      <td>100000.000000</td>\n",
              "      <td>100000.000000</td>\n",
              "      <td>100000.000000</td>\n",
              "      <td>100000.000000</td>\n",
              "      <td>100000.000000</td>\n",
              "      <td>100000.000000</td>\n",
              "      <td>100000.000000</td>\n",
              "      <td>100000.000000</td>\n",
              "      <td>100000.000000</td>\n",
              "      <td>100000.000000</td>\n",
              "      <td>100000.000000</td>\n",
              "    </tr>\n",
              "    <tr>\n",
              "      <th>mean</th>\n",
              "      <td>147955.518910</td>\n",
              "      <td>3.600568e+08</td>\n",
              "      <td>17.665188</td>\n",
              "      <td>-0.061691</td>\n",
              "      <td>-0.197864</td>\n",
              "      <td>-0.834725</td>\n",
              "      <td>7.521848</td>\n",
              "      <td>-0.116067</td>\n",
              "      <td>-0.039216</td>\n",
              "      <td>0.022640</td>\n",
              "      <td>9.200238</td>\n",
              "      <td>-0.012066</td>\n",
              "      <td>0.196614</td>\n",
              "      <td>0.804217</td>\n",
              "      <td>4.968886</td>\n",
              "      <td>0.106296</td>\n",
              "      <td>0.029453</td>\n",
              "      <td>-0.001960</td>\n",
              "      <td>10.092143</td>\n",
              "    </tr>\n",
              "    <tr>\n",
              "      <th>std</th>\n",
              "      <td>1009.016673</td>\n",
              "      <td>3.425911e+08</td>\n",
              "      <td>22.474517</td>\n",
              "      <td>7.186708</td>\n",
              "      <td>7.229930</td>\n",
              "      <td>26.692576</td>\n",
              "      <td>6.883665</td>\n",
              "      <td>1.511516</td>\n",
              "      <td>1.824423</td>\n",
              "      <td>0.999749</td>\n",
              "      <td>20.470750</td>\n",
              "      <td>7.641683</td>\n",
              "      <td>6.524565</td>\n",
              "      <td>20.050790</td>\n",
              "      <td>8.735779</td>\n",
              "      <td>1.404998</td>\n",
              "      <td>1.814451</td>\n",
              "      <td>1.000003</td>\n",
              "      <td>9.984072</td>\n",
              "    </tr>\n",
              "    <tr>\n",
              "      <th>min</th>\n",
              "      <td>146428.000000</td>\n",
              "      <td>4.982000e+03</td>\n",
              "      <td>2.703340</td>\n",
              "      <td>-221.622000</td>\n",
              "      <td>-313.942000</td>\n",
              "      <td>-2158.810000</td>\n",
              "      <td>1.001750</td>\n",
              "      <td>-2.611640</td>\n",
              "      <td>-3.141570</td>\n",
              "      <td>-1.000000</td>\n",
              "      <td>2.506870</td>\n",
              "      <td>-1501.300000</td>\n",
              "      <td>-105.613000</td>\n",
              "      <td>-1232.880000</td>\n",
              "      <td>0.563436</td>\n",
              "      <td>-2.615690</td>\n",
              "      <td>-3.141590</td>\n",
              "      <td>-1.000000</td>\n",
              "      <td>2.000030</td>\n",
              "    </tr>\n",
              "    <tr>\n",
              "      <th>25%</th>\n",
              "      <td>146807.000000</td>\n",
              "      <td>1.047934e+08</td>\n",
              "      <td>8.446880</td>\n",
              "      <td>-3.599162</td>\n",
              "      <td>-3.645665</td>\n",
              "      <td>-11.030350</td>\n",
              "      <td>3.927078</td>\n",
              "      <td>-1.527967</td>\n",
              "      <td>-1.626850</td>\n",
              "      <td>-1.000000</td>\n",
              "      <td>4.794437</td>\n",
              "      <td>-2.239950</td>\n",
              "      <td>-2.124545</td>\n",
              "      <td>-4.230577</td>\n",
              "      <td>2.048237</td>\n",
              "      <td>-1.099540</td>\n",
              "      <td>-1.538377</td>\n",
              "      <td>-1.000000</td>\n",
              "      <td>3.138270</td>\n",
              "    </tr>\n",
              "    <tr>\n",
              "      <th>50%</th>\n",
              "      <td>148058.000000</td>\n",
              "      <td>2.547149e+08</td>\n",
              "      <td>12.585600</td>\n",
              "      <td>-0.060634</td>\n",
              "      <td>-0.156428</td>\n",
              "      <td>-2.082375</td>\n",
              "      <td>5.615290</td>\n",
              "      <td>-0.277083</td>\n",
              "      <td>-0.063298</td>\n",
              "      <td>1.000000</td>\n",
              "      <td>6.641075</td>\n",
              "      <td>-0.014198</td>\n",
              "      <td>0.056748</td>\n",
              "      <td>0.956394</td>\n",
              "      <td>4.076730</td>\n",
              "      <td>0.168187</td>\n",
              "      <td>0.044331</td>\n",
              "      <td>-1.000000</td>\n",
              "      <td>7.852410</td>\n",
              "    </tr>\n",
              "    <tr>\n",
              "      <th>75%</th>\n",
              "      <td>148864.000000</td>\n",
              "      <td>4.972217e+08</td>\n",
              "      <td>20.417300</td>\n",
              "      <td>3.473033</td>\n",
              "      <td>3.411145</td>\n",
              "      <td>9.631530</td>\n",
              "      <td>9.397340</td>\n",
              "      <td>1.383780</td>\n",
              "      <td>1.530945</td>\n",
              "      <td>1.000000</td>\n",
              "      <td>10.052200</td>\n",
              "      <td>2.260152</td>\n",
              "      <td>2.353935</td>\n",
              "      <td>5.379317</td>\n",
              "      <td>5.763505</td>\n",
              "      <td>1.393425</td>\n",
              "      <td>1.611265</td>\n",
              "      <td>1.000000</td>\n",
              "      <td>13.152400</td>\n",
              "    </tr>\n",
              "    <tr>\n",
              "      <th>max</th>\n",
              "      <td>149294.000000</td>\n",
              "      <td>1.776807e+09</td>\n",
              "      <td>3384.430000</td>\n",
              "      <td>593.661000</td>\n",
              "      <td>385.344000</td>\n",
              "      <td>3309.590000</td>\n",
              "      <td>707.759000</td>\n",
              "      <td>2.566250</td>\n",
              "      <td>3.141570</td>\n",
              "      <td>1.000000</td>\n",
              "      <td>4346.030000</td>\n",
              "      <td>750.348000</td>\n",
              "      <td>1003.490000</td>\n",
              "      <td>4251.780000</td>\n",
              "      <td>1805.790000</td>\n",
              "      <td>2.711330</td>\n",
              "      <td>3.141560</td>\n",
              "      <td>1.000000</td>\n",
              "      <td>109.977000</td>\n",
              "    </tr>\n",
              "  </tbody>\n",
              "</table>\n",
              "</div>"
            ],
            "text/plain": [
              "                 Run         Event  ...             Q2              M\n",
              "count  100000.000000  1.000000e+05  ...  100000.000000  100000.000000\n",
              "mean   147955.518910  3.600568e+08  ...      -0.001960      10.092143\n",
              "std      1009.016673  3.425911e+08  ...       1.000003       9.984072\n",
              "min    146428.000000  4.982000e+03  ...      -1.000000       2.000030\n",
              "25%    146807.000000  1.047934e+08  ...      -1.000000       3.138270\n",
              "50%    148058.000000  2.547149e+08  ...      -1.000000       7.852410\n",
              "75%    148864.000000  4.972217e+08  ...       1.000000      13.152400\n",
              "max    149294.000000  1.776807e+09  ...       1.000000     109.977000\n",
              "\n",
              "[8 rows x 19 columns]"
            ]
          },
          "metadata": {
            "tags": []
          },
          "execution_count": 55
        }
      ]
    },
    {
      "cell_type": "markdown",
      "metadata": {
        "id": "SqW5tPRTehGW"
      },
      "source": [
        "Although not strictly necessary, it may be helpful to see histograms of the data as well. \n",
        "\n",
        "To practice that skill, make a new code block below and make a multi-figure plot to make a histogram of at least 12 of the most relevant columns.\n",
        "\n",
        "(If you run into problems, double check the names of the columns in the \".keys\" code block. Every now and then there is a space in the column name that can be irritating.)"
      ]
    },
    {
      "cell_type": "code",
      "metadata": {
        "id": "hZs9D_THVZgr",
        "colab": {
          "base_uri": "https://localhost:8080/",
          "height": 396
        },
        "outputId": "19ddfef6-c984-4923-801d-60e167019e92"
      },
      "source": [
        "# All of the code in this block is to create a multi histogram figure showing the imported data\n",
        "\n",
        "data['MuQuality']=data.Type1+data.Type2 #make a column combining data types\n",
        "\n",
        "\n",
        "# set the range of the x-axis and set the number of bins\n",
        "xE = np.linspace(0, 60, num=61) # splits the range from 0 to 60 into 61 values\n",
        "xP = np.linspace(0, 30, num=51) # splits the range from -25 to 25 into 51 values\n",
        "xQ = np.linspace(-2.5, 2.5, num=6) # splits the range from -2.5 to 2.5 into 6 values. Why? There's a reason ...\n",
        "xA = np.linspace(-3.2,3.2,num=50)\n",
        "xT = np.linspace(-3,3,num=50)\n",
        "\n",
        "# create and size the figure\n",
        "fig1 = plt.figure(figsize = [22, 12])\n",
        "fig1.suptitle('Diagnostic Plots in Lab Frame')\n",
        "\n",
        "# First subplot of the Muon Quality\n",
        "MuQualityPlot = plt.subplot(3,4, 1) # 3 rows, 4 cols, subplot 1\n",
        "plt.hist(data.MuQuality) # data type is 'object' so no range or number of bins defined\n",
        "MuQualityPlot.title.set_text('MuQuality')\n",
        "\n",
        "# Second subplot of the Event Nimber\n",
        "MassPlot = plt.subplot(3,4, 2) # 3 rows, 4 cols, subplot 2\n",
        "plt.hist(data.M, bins=201) # bins defined on this line\n",
        "MassPlot.title.set_text('Mass')\n",
        "\n",
        "# Third subplot of the Charge of Muon 1 (Q1)\n",
        "Q1Plot = plt.subplot(3,4, 3) # 3 rows, 4 cols, subplot 3\n",
        "plt.hist(data.Q1, xQ) # bins defined above\n",
        "Q1Plot.title.set_text('Q1');\n",
        "\n",
        "# Fourth subplot of the Charge of Muon 2 (Q2)\n",
        "Q2Plot = plt.subplot(3,4, 4) # 3 rows, 4 cols, subplot 4\n",
        "plt.hist(data.Q2, xQ)\n",
        "Q2Plot.title.set_text('Q2');\n",
        "\n",
        "# Fifth subplot of the energy of muon 1 (E1)\n",
        "E1Plot = plt.subplot(3,4, 5) # 3 rows, 4 cols, subplot 5\n",
        "plt.hist(data.E1, xE)\n",
        "E1Plot.title.set_text('E1')\n",
        "\n",
        "# Sixth subplot of the transverse momentum of muon 1 (pt1)\n",
        "pt1Plot = plt.subplot(3,4, 6) # 3 rows, 4 cols, subplot 6\n",
        "plt.hist(data['pt1'], xP)\n",
        "pt1Plot.title.set_text('pt1')\n",
        "\n",
        "# Seventh subplot of the angle in the x-y plane of muon 1 (phi1)\n",
        "phi1Plot = plt.subplot(3,4, 7) # 3 rows, 4 cols, subplot 7\n",
        "plt.hist(data.phi1, xA)\n",
        "phi1Plot.title.set_text('phi1');\n",
        "\n",
        "# Eighth subplot of the psuedorapidity of muon 1 (eta1)\n",
        "eta1Plot = plt.subplot(3,4, 8) # 3 rows, 4 cols, subplot 8\n",
        "plt.hist(data.eta1, xT)\n",
        "eta1Plot.title.set_text('eta1');\n",
        "\n",
        "\n",
        "# Ninth subplot of the energy of muon 2 (E2)\n",
        "E2Plot = plt.subplot(3,4, 9) # 3 rows, 4 cols, subplot 9\n",
        "plt.hist(data.E2, xE)\n",
        "E2Plot.title.set_text('E2')\n",
        "\n",
        "# Tenth subplot of the transverse momentum of muon 2 (pt2)\n",
        "pt2Plot = plt.subplot(3,4, 10) # 3 rows, 4 cols, subplot 10\n",
        "plt.hist(data.pt2, xP)\n",
        "pt2Plot.title.set_text('pt2')\n",
        "\n",
        "# Eleventh subplot of the angle in the x-y plane of muon 2 (phi2)\n",
        "phi2Plot = plt.subplot(3,4, 11) # 3 rows, 4 cols, subplot 11\n",
        "plt.hist(data.phi2, xA)\n",
        "phi2Plot.title.set_text('phi2');\n",
        "\n",
        "# Twelfth subplot of the psuedorapidity of muon 2 (eta2)\n",
        "eta2Plot = plt.subplot(3,4, 12) # 3 rows, 4 cols, subplot 12\n",
        "plt.hist(data.eta2, xT)\n",
        "eta2Plot.title.set_text('eta2');"
      ],
      "execution_count": 56,
      "outputs": [
        {
          "output_type": "display_data",
          "data": {
            "image/png": "[encoded data removed]",
            "text/plain": [
              "<Figure size 1584x864 with 12 Axes>"
            ]
          },
          "metadata": {
            "tags": [],
            "needs_background": "light"
          }
        }
      ]
    },
    {
      "cell_type": "markdown",
      "metadata": {
        "id": "dulS1OjPtqDr"
      },
      "source": [
        "## Psuedocode\n",
        "\n",
        "What do we want? \n",
        "- What is the end result of the W2D2 masterclass?\n",
        "\n",
        "How do we get there?\n",
        "- What information are we starting with?\n",
        "- How do we use this data to get the thing we want?\n",
        "\n",
        "After answering these questions on your own, add some code blocks below to histogram the larger dataset you pulled from the CERN Open Data page and compare it to the few events you worked out \"by hand\".\n"
      ]
    },
    {
      "cell_type": "code",
      "metadata": {
        "colab": {
          "base_uri": "https://localhost:8080/"
        },
        "id": "zubYkE7KK1KF",
        "outputId": "57cbddbc-df1f-413a-d0f2-01f65a2de4a4"
      },
      "source": [
        "len(data) #get the length of the dataset"
      ],
      "execution_count": 57,
      "outputs": [
        {
          "output_type": "execute_result",
          "data": {
            "text/plain": [
              "100000"
            ]
          },
          "metadata": {
            "tags": []
          },
          "execution_count": 57
        }
      ]
    },
    {
      "cell_type": "code",
      "metadata": {
        "id": "MrVo9HYLAEmE",
        "colab": {
          "base_uri": "https://localhost:8080/",
          "height": 519
        },
        "outputId": "f24c4b49-7625-4d9d-99c7-11742369a884"
      },
      "source": [
        "dphi = pd.DataFrame(columns=['dphi_raw','dphi_rad','dphi_deg'])\n",
        "\n",
        "dphi['dphi_raw'] = np.abs(data.phi1 - data.phi2)\n",
        "\n",
        "for ie in range(0,len(data)):\n",
        "  if dphi.at[ie,'dphi_raw'] > np.pi:\n",
        "    dphi.at[ie,'dphi_rad'] = 2*np.pi - dphi.at[ie,'dphi_raw']\n",
        "  else:\n",
        "    dphi.at[ie,'dphi_rad'] = dphi.at[ie,'dphi_raw']\n",
        "\n",
        "dphi['dphi_deg'] = dphi['dphi_rad']*180/np.pi\n",
        "\n",
        "dphi.head(15)\n"
      ],
      "execution_count": 58,
      "outputs": [
        {
          "output_type": "execute_result",
          "data": {
            "text/html": [
              "<div>\n",
              "<style scoped>\n",
              "    .dataframe tbody tr th:only-of-type {\n",
              "        vertical-align: middle;\n",
              "    }\n",
              "\n",
              "    .dataframe tbody tr th {\n",
              "        vertical-align: top;\n",
              "    }\n",
              "\n",
              "    .dataframe thead th {\n",
              "        text-align: right;\n",
              "    }\n",
              "</style>\n",
              "<table border=\"1\" class=\"dataframe\">\n",
              "  <thead>\n",
              "    <tr style=\"text-align: right;\">\n",
              "      <th></th>\n",
              "      <th>dphi_raw</th>\n",
              "      <th>dphi_rad</th>\n",
              "      <th>dphi_deg</th>\n",
              "    </tr>\n",
              "  </thead>\n",
              "  <tbody>\n",
              "    <tr>\n",
              "      <th>0</th>\n",
              "      <td>0.536570</td>\n",
              "      <td>0.53657</td>\n",
              "      <td>30.7432</td>\n",
              "    </tr>\n",
              "    <tr>\n",
              "      <th>1</th>\n",
              "      <td>0.257167</td>\n",
              "      <td>0.257167</td>\n",
              "      <td>14.7346</td>\n",
              "    </tr>\n",
              "    <tr>\n",
              "      <th>2</th>\n",
              "      <td>0.517470</td>\n",
              "      <td>0.51747</td>\n",
              "      <td>29.6488</td>\n",
              "    </tr>\n",
              "    <tr>\n",
              "      <th>3</th>\n",
              "      <td>2.142059</td>\n",
              "      <td>2.14206</td>\n",
              "      <td>122.731</td>\n",
              "    </tr>\n",
              "    <tr>\n",
              "      <th>4</th>\n",
              "      <td>2.523221</td>\n",
              "      <td>2.52322</td>\n",
              "      <td>144.57</td>\n",
              "    </tr>\n",
              "    <tr>\n",
              "      <th>5</th>\n",
              "      <td>0.043590</td>\n",
              "      <td>0.04359</td>\n",
              "      <td>2.49752</td>\n",
              "    </tr>\n",
              "    <tr>\n",
              "      <th>6</th>\n",
              "      <td>2.247445</td>\n",
              "      <td>2.24744</td>\n",
              "      <td>128.769</td>\n",
              "    </tr>\n",
              "    <tr>\n",
              "      <th>7</th>\n",
              "      <td>1.153410</td>\n",
              "      <td>1.15341</td>\n",
              "      <td>66.0855</td>\n",
              "    </tr>\n",
              "    <tr>\n",
              "      <th>8</th>\n",
              "      <td>0.565350</td>\n",
              "      <td>0.56535</td>\n",
              "      <td>32.3922</td>\n",
              "    </tr>\n",
              "    <tr>\n",
              "      <th>9</th>\n",
              "      <td>1.576343</td>\n",
              "      <td>1.57634</td>\n",
              "      <td>90.3178</td>\n",
              "    </tr>\n",
              "    <tr>\n",
              "      <th>10</th>\n",
              "      <td>2.534960</td>\n",
              "      <td>2.53496</td>\n",
              "      <td>145.243</td>\n",
              "    </tr>\n",
              "    <tr>\n",
              "      <th>11</th>\n",
              "      <td>2.779189</td>\n",
              "      <td>2.77919</td>\n",
              "      <td>159.236</td>\n",
              "    </tr>\n",
              "    <tr>\n",
              "      <th>12</th>\n",
              "      <td>1.466277</td>\n",
              "      <td>1.46628</td>\n",
              "      <td>84.0115</td>\n",
              "    </tr>\n",
              "    <tr>\n",
              "      <th>13</th>\n",
              "      <td>0.073130</td>\n",
              "      <td>0.07313</td>\n",
              "      <td>4.19004</td>\n",
              "    </tr>\n",
              "    <tr>\n",
              "      <th>14</th>\n",
              "      <td>3.560080</td>\n",
              "      <td>2.72311</td>\n",
              "      <td>156.022</td>\n",
              "    </tr>\n",
              "  </tbody>\n",
              "</table>\n",
              "</div>"
            ],
            "text/plain": [
              "    dphi_raw  dphi_rad dphi_deg\n",
              "0   0.536570   0.53657  30.7432\n",
              "1   0.257167  0.257167  14.7346\n",
              "2   0.517470   0.51747  29.6488\n",
              "3   2.142059   2.14206  122.731\n",
              "4   2.523221   2.52322   144.57\n",
              "5   0.043590   0.04359  2.49752\n",
              "6   2.247445   2.24744  128.769\n",
              "7   1.153410   1.15341  66.0855\n",
              "8   0.565350   0.56535  32.3922\n",
              "9   1.576343   1.57634  90.3178\n",
              "10  2.534960   2.53496  145.243\n",
              "11  2.779189   2.77919  159.236\n",
              "12  1.466277   1.46628  84.0115\n",
              "13  0.073130   0.07313  4.19004\n",
              "14  3.560080   2.72311  156.022"
            ]
          },
          "metadata": {
            "tags": []
          },
          "execution_count": 58
        }
      ]
    },
    {
      "cell_type": "code",
      "metadata": {
        "colab": {
          "base_uri": "https://localhost:8080/"
        },
        "id": "P2JXsGJimP2t",
        "outputId": "74194a00-7046-42c0-eb1b-9886246ad786"
      },
      "source": [
        "phi = pd.DataFrame.copy(data['phi1'])\n",
        "phi = phi.append(data['phi2'])\n",
        "phi = phi*180/np.pi\n",
        "phi.head(5)"
      ],
      "execution_count": 59,
      "outputs": [
        {
          "output_type": "execute_result",
          "data": {
            "text/plain": [
              "0     67.115703\n",
              "1    -37.853832\n",
              "2     95.164852\n",
              "3    124.935166\n",
              "4    -10.508676\n",
              "dtype: float64"
            ]
          },
          "metadata": {
            "tags": []
          },
          "execution_count": 59
        }
      ]
    },
    {
      "cell_type": "code",
      "metadata": {
        "id": "eZVNIbdzAOdw",
        "colab": {
          "base_uri": "https://localhost:8080/",
          "height": 432
        },
        "outputId": "4ff0ea45-37dc-4658-bf83-d05c01f5a40e"
      },
      "source": [
        "fig2 = plt.figure(figsize = [36, 24])\n",
        "\n",
        "# First subplot of sys.E\n",
        "phiPlot = plt.subplot(1,2, 1) # 1 row, 2 cols, subplot 1\n",
        "plt.hist(phi,bins=180, range=(-180,180))\n",
        "phiPlot.title.set_text('Individual Muon Phi Angle')\n",
        "\n",
        "# Second subplot of sys.P\n",
        "dphiPlot = plt.subplot(1,2, 2) # 1 row, 4 cols, subplot 2\n",
        "plt.hist(dphi['dphi_deg'], bins=180, range=(0,180))\n",
        "dphiPlot.title.set_text('Opening Angles (deg)')"
      ],
      "execution_count": 60,
      "outputs": [
        {
          "output_type": "display_data",
          "data": {
            "image/png": "[encoded data removed]",
            "text/plain": [
              "<Figure size 2592x1728 with 2 Axes>"
            ]
          },
          "metadata": {
            "tags": [],
            "needs_background": "light"
          }
        }
      ]
    },
    {
      "cell_type": "markdown",
      "metadata": {
        "id": "U-idsixvD7Xt"
      },
      "source": [
        "# Reflection and Review\n",
        "\n",
        "- What problems did you run into when writing your code?\n",
        "- How did the histogram of the larger data set compare to the smaller one from the masterclass?\n",
        "- Did you make any cuts in the data you analyzed to be sure that the muons were opposite sign and were of best quality?\n",
        "- What conclusions, if any, can you infer from your histograms? Can you include any supporting evidence from the dataset? Can you display that supporting evidence graphically?"
      ]
    },
    {
      "cell_type": "markdown",
      "metadata": {
        "id": "yvOebu25Flw6"
      },
      "source": [
        "# Going Even Further, an Extension on the Extension\n",
        "\n",
        "- If you didn't make any cuts for charge or quality, do them below.\n",
        "- Make a comparison of opening angle and mass. Is there a relationship?\n",
        "- Are there any other relationships that should be explored?"
      ]
    },
    {
      "cell_type": "code",
      "metadata": {
        "colab": {
          "base_uri": "https://localhost:8080/",
          "height": 206
        },
        "id": "-IzGXdH3MfLg",
        "outputId": "77ca83f6-2420-44ef-9161-3c514851d32a"
      },
      "source": [
        "dphi['opp'] = data.Q1*data.Q2\n",
        "dphi['MuQuality']=data.MuQuality\n",
        "dphi['Mass']=data.M\n",
        "dphi.head(5)"
      ],
      "execution_count": 61,
      "outputs": [
        {
          "output_type": "execute_result",
          "data": {
            "text/html": [
              "<div>\n",
              "<style scoped>\n",
              "    .dataframe tbody tr th:only-of-type {\n",
              "        vertical-align: middle;\n",
              "    }\n",
              "\n",
              "    .dataframe tbody tr th {\n",
              "        vertical-align: top;\n",
              "    }\n",
              "\n",
              "    .dataframe thead th {\n",
              "        text-align: right;\n",
              "    }\n",
              "</style>\n",
              "<table border=\"1\" class=\"dataframe\">\n",
              "  <thead>\n",
              "    <tr style=\"text-align: right;\">\n",
              "      <th></th>\n",
              "      <th>dphi_raw</th>\n",
              "      <th>dphi_rad</th>\n",
              "      <th>dphi_deg</th>\n",
              "      <th>opp</th>\n",
              "      <th>MuQuality</th>\n",
              "      <th>Mass</th>\n",
              "    </tr>\n",
              "  </thead>\n",
              "  <tbody>\n",
              "    <tr>\n",
              "      <th>0</th>\n",
              "      <td>0.536570</td>\n",
              "      <td>0.53657</td>\n",
              "      <td>30.7432</td>\n",
              "      <td>1</td>\n",
              "      <td>GT</td>\n",
              "      <td>2.73205</td>\n",
              "    </tr>\n",
              "    <tr>\n",
              "      <th>1</th>\n",
              "      <td>0.257167</td>\n",
              "      <td>0.257167</td>\n",
              "      <td>14.7346</td>\n",
              "      <td>-1</td>\n",
              "      <td>GG</td>\n",
              "      <td>3.10256</td>\n",
              "    </tr>\n",
              "    <tr>\n",
              "      <th>2</th>\n",
              "      <td>0.517470</td>\n",
              "      <td>0.51747</td>\n",
              "      <td>29.6488</td>\n",
              "      <td>-1</td>\n",
              "      <td>GG</td>\n",
              "      <td>9.41149</td>\n",
              "    </tr>\n",
              "    <tr>\n",
              "      <th>3</th>\n",
              "      <td>2.142059</td>\n",
              "      <td>2.14206</td>\n",
              "      <td>122.731</td>\n",
              "      <td>1</td>\n",
              "      <td>GG</td>\n",
              "      <td>7.74702</td>\n",
              "    </tr>\n",
              "    <tr>\n",
              "      <th>4</th>\n",
              "      <td>2.523221</td>\n",
              "      <td>2.52322</td>\n",
              "      <td>144.57</td>\n",
              "      <td>-1</td>\n",
              "      <td>GT</td>\n",
              "      <td>8.67727</td>\n",
              "    </tr>\n",
              "  </tbody>\n",
              "</table>\n",
              "</div>"
            ],
            "text/plain": [
              "   dphi_raw  dphi_rad dphi_deg  opp MuQuality     Mass\n",
              "0  0.536570   0.53657  30.7432    1        GT  2.73205\n",
              "1  0.257167  0.257167  14.7346   -1        GG  3.10256\n",
              "2  0.517470   0.51747  29.6488   -1        GG  9.41149\n",
              "3  2.142059   2.14206  122.731    1        GG  7.74702\n",
              "4  2.523221   2.52322   144.57   -1        GT  8.67727"
            ]
          },
          "metadata": {
            "tags": []
          },
          "execution_count": 61
        }
      ]
    },
    {
      "cell_type": "code",
      "metadata": {
        "colab": {
          "base_uri": "https://localhost:8080/",
          "height": 206
        },
        "id": "Wjq24rhnMwRf",
        "outputId": "16fc6dd9-f707-477d-d48f-21ff97ea1a92"
      },
      "source": [
        "dphi_opp = dphi[dphi['opp']<0]\n",
        "\n",
        "dphi_cut = dphi_opp[dphi_opp['MuQuality']=='GG']\n",
        "\n",
        "dphi_cut.head(5)"
      ],
      "execution_count": 62,
      "outputs": [
        {
          "output_type": "execute_result",
          "data": {
            "text/html": [
              "<div>\n",
              "<style scoped>\n",
              "    .dataframe tbody tr th:only-of-type {\n",
              "        vertical-align: middle;\n",
              "    }\n",
              "\n",
              "    .dataframe tbody tr th {\n",
              "        vertical-align: top;\n",
              "    }\n",
              "\n",
              "    .dataframe thead th {\n",
              "        text-align: right;\n",
              "    }\n",
              "</style>\n",
              "<table border=\"1\" class=\"dataframe\">\n",
              "  <thead>\n",
              "    <tr style=\"text-align: right;\">\n",
              "      <th></th>\n",
              "      <th>dphi_raw</th>\n",
              "      <th>dphi_rad</th>\n",
              "      <th>dphi_deg</th>\n",
              "      <th>opp</th>\n",
              "      <th>MuQuality</th>\n",
              "      <th>Mass</th>\n",
              "    </tr>\n",
              "  </thead>\n",
              "  <tbody>\n",
              "    <tr>\n",
              "      <th>1</th>\n",
              "      <td>0.257167</td>\n",
              "      <td>0.257167</td>\n",
              "      <td>14.7346</td>\n",
              "      <td>-1</td>\n",
              "      <td>GG</td>\n",
              "      <td>3.10256</td>\n",
              "    </tr>\n",
              "    <tr>\n",
              "      <th>2</th>\n",
              "      <td>0.517470</td>\n",
              "      <td>0.51747</td>\n",
              "      <td>29.6488</td>\n",
              "      <td>-1</td>\n",
              "      <td>GG</td>\n",
              "      <td>9.41149</td>\n",
              "    </tr>\n",
              "    <tr>\n",
              "      <th>5</th>\n",
              "      <td>0.043590</td>\n",
              "      <td>0.04359</td>\n",
              "      <td>2.49752</td>\n",
              "      <td>-1</td>\n",
              "      <td>GG</td>\n",
              "      <td>2.30104</td>\n",
              "    </tr>\n",
              "    <tr>\n",
              "      <th>7</th>\n",
              "      <td>1.153410</td>\n",
              "      <td>1.15341</td>\n",
              "      <td>66.0855</td>\n",
              "      <td>-1</td>\n",
              "      <td>GG</td>\n",
              "      <td>4.14828</td>\n",
              "    </tr>\n",
              "    <tr>\n",
              "      <th>8</th>\n",
              "      <td>0.565350</td>\n",
              "      <td>0.56535</td>\n",
              "      <td>32.3922</td>\n",
              "      <td>-1</td>\n",
              "      <td>GG</td>\n",
              "      <td>3.13180</td>\n",
              "    </tr>\n",
              "  </tbody>\n",
              "</table>\n",
              "</div>"
            ],
            "text/plain": [
              "   dphi_raw  dphi_rad dphi_deg  opp MuQuality     Mass\n",
              "1  0.257167  0.257167  14.7346   -1        GG  3.10256\n",
              "2  0.517470   0.51747  29.6488   -1        GG  9.41149\n",
              "5  0.043590   0.04359  2.49752   -1        GG  2.30104\n",
              "7  1.153410   1.15341  66.0855   -1        GG  4.14828\n",
              "8  0.565350   0.56535  32.3922   -1        GG  3.13180"
            ]
          },
          "metadata": {
            "tags": []
          },
          "execution_count": 62
        }
      ]
    },
    {
      "cell_type": "code",
      "metadata": {
        "colab": {
          "base_uri": "https://localhost:8080/",
          "height": 430
        },
        "id": "rZetMWG2M9Ob",
        "outputId": "8d047f9d-6a0f-4da1-9431-73ccd4d0524e"
      },
      "source": [
        "fig3 = plt.figure(figsize = [36, 24])\n",
        "\n",
        "# First subplot of sys.E\n",
        "phiPlot2 = plt.subplot(1,2, 1) # 1 row, 2 cols, subplot 1\n",
        "plt.hist(phi,bins=180, range=(-190,190))\n",
        "phiPlot2.title.set_text('Individual Muon Phi Angle')\n",
        "\n",
        "# Second subplot of sys.P\n",
        "dphiPlot2 = plt.subplot(1,2, 2) # 1 row, 4 cols, subplot 2\n",
        "plt.hist(dphi_cut['dphi_deg'], bins=180, range=(-10,190))\n",
        "dphiPlot2.title.set_text('Opening Angles (deg)')"
      ],
      "execution_count": 64,
      "outputs": [
        {
          "output_type": "display_data",
          "data": {
            "image/png": "[encoded data removed]",
            "text/plain": [
              "<Figure size 2592x1728 with 2 Axes>"
            ]
          },
          "metadata": {
            "tags": [],
            "needs_background": "light"
          }
        }
      ]
    },
    {
      "cell_type": "code",
      "metadata": {
        "colab": {
          "base_uri": "https://localhost:8080/",
          "height": 281
        },
        "id": "uB2vt78qNFHy",
        "outputId": "73c18106-f7c8-4d6d-959a-b0cc01772353"
      },
      "source": [
        "# comparing angle and mass\n",
        "Mass_Angle_Plot2 = plt.scatter(dphi_cut.dphi_deg,dphi_cut.Mass);\n",
        "plt.title('Mass vs. Opening Angle');"
      ],
      "execution_count": 65,
      "outputs": [
        {
          "output_type": "display_data",
          "data": {
            "image/png": "[encoded data removed]",
            "text/plain": [
              "<Figure size 432x288 with 1 Axes>"
            ]
          },
          "metadata": {
            "tags": [],
            "needs_background": "light"
          }
        }
      ]
    },
    {
      "cell_type": "code",
      "metadata": {
        "colab": {
          "base_uri": "https://localhost:8080/"
        },
        "id": "R_0LmgtXONVF",
        "outputId": "6e9b92d6-23bc-41f2-b61e-6dcc9203596a"
      },
      "source": [
        "high_angle = dphi_cut[dphi_cut['dphi_deg']>179]\n",
        "\n",
        "high_angle.shape"
      ],
      "execution_count": 66,
      "outputs": [
        {
          "output_type": "execute_result",
          "data": {
            "text/plain": [
              "(764, 6)"
            ]
          },
          "metadata": {
            "tags": []
          },
          "execution_count": 66
        }
      ]
    },
    {
      "cell_type": "code",
      "metadata": {
        "colab": {
          "base_uri": "https://localhost:8080/",
          "height": 195
        },
        "id": "zw-c0KajOSy6",
        "outputId": "6855cb32-36af-4dc9-d742-b6993f48140c"
      },
      "source": [
        "fig3 = plt.figure(figsize = [36, 24])\n",
        "\n",
        "# First subplot of sys.E\n",
        "phiPlot2 = plt.subplot(3,4, 1) # 1 row, 4 cols, subplot 1\n",
        "plt.hist(phi,bins=180, range=(-190,190))\n",
        "phiPlot2.title.set_text('Individual Muon Phi Angle')\n",
        "\n",
        "# Second subplot of sys.P\n",
        "dphiPlot2 = plt.subplot(3,4, 2) # 1 row, 4 cols, subplot 2\n",
        "plt.hist(high_angle['dphi_deg'], bins=20, range=(178.8,180))\n",
        "dphiPlot2.title.set_text('Opening Angles (deg)')\n",
        "\n",
        "# Third subplot of sys.M\n",
        "Mass_Angle_Plot2 = plt.subplot(3,4, 3) # 1 row, 4 cols, subplot 3\n",
        "plt.scatter(high_angle.dphi_deg,high_angle.Mass)\n",
        "Mass_Angle_Plot2.title.set_text('Mass vs. Opening Angle');"
      ],
      "execution_count": 68,
      "outputs": [
        {
          "output_type": "display_data",
          "data": {
            "image/png": "[encoded data removed]",
            "text/plain": [
              "<Figure size 2592x1728 with 3 Axes>"
            ]
          },
          "metadata": {
            "tags": [],
            "needs_background": "light"
          }
        }
      ]
    }
  ]
}