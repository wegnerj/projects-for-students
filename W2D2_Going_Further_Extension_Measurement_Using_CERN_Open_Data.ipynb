{
  "nbformat": 4,
  "nbformat_minor": 0,
  "metadata": {
    "colab": {
      "name": "W2D2 Going Further Extension_Measurement Using CERN Open Data",
      "provenance": [],
      "collapsed_sections": [],
      "include_colab_link": true
    },
    "kernelspec": {
      "name": "python3",
      "display_name": "Python 3"
    }
  },
  "cells": [
    {
      "cell_type": "markdown",
      "metadata": {
        "id": "view-in-github",
        "colab_type": "text"
      },
      "source": [
        "<a href=\"https://colab.research.google.com/github/wegnerj/projects-for-students/blob/master/W2D2_Going_Further_Extension_Measurement_Using_CERN_Open_Data.ipynb\" target=\"_parent\"><img src=\"https://colab.research.google.com/assets/colab-badge.svg\" alt=\"Open In Colab\"/></a>"
      ]
    },
    {
      "cell_type": "code",
      "metadata": {
        "id": "CigWd45VwpPp"
      },
      "source": [
        "# imports some software packages we'll use\n",
        "import pandas as pd\n",
        "import numpy as np\n",
        "%matplotlib inline\n",
        "import matplotlib as mpl\n",
        "import matplotlib.pyplot as plt\n",
        "import math"
      ],
      "execution_count": null,
      "outputs": []
    },
    {
      "cell_type": "markdown",
      "metadata": {
        "id": "q0HpOcL7jfw5"
      },
      "source": [
        "# Get Some Data ...\n",
        "\n",
        "Choose a data set to use from [CERN Open Data](https://opendata.cern.ch/).\n",
        "\n",
        "Tips for choosing a data set:\n",
        "\n",
        "- click the 'datasets' link\n",
        "- filter for ... ? (What were we looking at in ispy again?)\n",
        "- right click on the download button, copy link address, and add it into the line below.\n",
        "- Take a look at your data so you can make a plan."
      ]
    },
    {
      "cell_type": "code",
      "metadata": {
        "id": "-u6HiVILyyc5"
      },
      "source": [
        "# a hashtag tells the program \"don't read the rest of the line\"\n",
        "# The next line pulls in the dataset from a file with comma seperated values (csv)\n",
        "# The dataset is then put into a DataFrame called \"data\" using the pd.read function.\n",
        "# The name of the DataFrame is arbitrary. \"data\" is just a name that is used often.\n",
        "data = pd.read_csv('PASTE DATASET LINK HERE')"
      ],
      "execution_count": null,
      "outputs": []
    },
    {
      "cell_type": "markdown",
      "metadata": {
        "id": "iNUqUk3eczS_"
      },
      "source": [
        "## Get to know your data ...\n",
        "\n",
        "It is often a good practice to take a sneak peak at your data to get an idea of what you're working with.\n",
        "\n",
        "The following code blocks contain some common commands for exploring your data and discovering properties about it."
      ]
    },
    {
      "cell_type": "code",
      "metadata": {
        "id": "vdQDKWrZy8Hx"
      },
      "source": [
        "# The .head(n) command displays the first n rows of a file.\n",
        "data.head(5)"
      ],
      "execution_count": null,
      "outputs": []
    },
    {
      "cell_type": "code",
      "metadata": {
        "id": "BCZrNnruj9_M"
      },
      "source": [
        "# The .shape command displays the (number of rows , number of columns) in a file.\n",
        "data.shape"
      ],
      "execution_count": null,
      "outputs": []
    },
    {
      "cell_type": "code",
      "metadata": {
        "id": "fwSwLgZpmWAP"
      },
      "source": [
        "# The .types command displays data types.\n",
        "data.dtypes"
      ],
      "execution_count": null,
      "outputs": []
    },
    {
      "cell_type": "code",
      "metadata": {
        "id": "shMuex0aiX19"
      },
      "source": [
        "# The .keys command displays the column names.\n",
        "data.keys()"
      ],
      "execution_count": null,
      "outputs": []
    },
    {
      "cell_type": "code",
      "metadata": {
        "id": "SBz3VG3FUHjP"
      },
      "source": [
        "# The .describe command displays the dataset statistics\n",
        "data.describe()"
      ],
      "execution_count": null,
      "outputs": []
    },
    {
      "cell_type": "markdown",
      "metadata": {
        "id": "SqW5tPRTehGW"
      },
      "source": [
        "Although not strictly necessary, it may be helpful to see histograms of the data as well. \n",
        "\n",
        "To practice that skill, make a new code block below and make a multi-figure plot to make a histogram of at least 12 of the most relevant columns.\n",
        "\n",
        "(If you run into problems, double check the names of the columns in the \".keys\" code block. Every now and then there is a space in the column name that can be irritating.)"
      ]
    },
    {
      "cell_type": "markdown",
      "metadata": {
        "id": "dulS1OjPtqDr"
      },
      "source": [
        "## Psuedocode\n",
        "\n",
        "What do we want? \n",
        "- What is the end result of the W2D2 masterclass?\n",
        "\n",
        "How do we get there?\n",
        "- What information are we starting with?\n",
        "- How do we use this data to get the thing we want?\n"
      ]
    },
    {
      "cell_type": "markdown",
      "metadata": {
        "id": "Tx0clRKkapOw"
      },
      "source": [
        "# Code\n",
        "\n",
        "After answering these questions on your own, add some code blocks below to histogram the larger dataset you pulled from the CERN Open Data page and compare it to the few events you worked out \"by hand\"."
      ]
    },
    {
      "cell_type": "markdown",
      "metadata": {
        "id": "U-idsixvD7Xt"
      },
      "source": [
        "# Reflection and Review\n",
        "\n",
        "- What problems did you run into when writing your code?\n",
        "- How did the histogram of the larger data set compare to the smaller one from the masterclass?\n",
        "- Did you make any cuts in the data you analyzed to be sure that the muons were opposite sign and were of best quality?\n",
        "- What conclusions, if any, can you infer from your histograms? Can you include any supporting evidence from the dataset? Can you display that supporting evidence graphically?"
      ]
    },
    {
      "cell_type": "markdown",
      "metadata": {
        "id": "yvOebu25Flw6"
      },
      "source": [
        "# Going Even Further, an Extension on the Extension\n",
        "\n",
        "- If you didn't make any cuts for charge or quality, do them below.\n",
        "- Make a comparison of opening angle and mass. Is there a relationship?\n",
        "- Are there any other relationships that should be explored?"
      ]
    },
    {
      "cell_type": "markdown",
      "metadata": {
        "id": "_LsKe_8FFda9"
      },
      "source": [
        ""
      ]
    }
  ]
}